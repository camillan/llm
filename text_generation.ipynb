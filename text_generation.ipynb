{
  "nbformat": 4,
  "nbformat_minor": 0,
  "metadata": {
    "colab": {
      "provenance": [],
      "gpuType": "T4",
      "authorship_tag": "ABX9TyPClRVJJNrqaHOi0lVwGqrH",
      "include_colab_link": true
    },
    "kernelspec": {
      "name": "python3",
      "display_name": "Python 3"
    },
    "language_info": {
      "name": "python"
    },
    "accelerator": "GPU"
  },
  "cells": [
    {
      "cell_type": "markdown",
      "metadata": {
        "id": "view-in-github",
        "colab_type": "text"
      },
      "source": [
        "<a href=\"https://colab.research.google.com/github/camillan/llm/blob/main/text_generation.ipynb\" target=\"_parent\"><img src=\"https://colab.research.google.com/assets/colab-badge.svg\" alt=\"Open In Colab\"/></a>"
      ]
    },
    {
      "cell_type": "code",
      "execution_count": 2,
      "metadata": {
        "colab": {
          "base_uri": "https://localhost:8080/"
        },
        "id": "7VqDAP94e-5f",
        "outputId": "5e84b9e5-3098-48db-e757-eab658a8e3fe"
      },
      "outputs": [
        {
          "output_type": "stream",
          "name": "stdout",
          "text": [
            "Requirement already satisfied: transformers in /usr/local/lib/python3.11/dist-packages (4.51.3)\n",
            "Requirement already satisfied: filelock in /usr/local/lib/python3.11/dist-packages (from transformers) (3.18.0)\n",
            "Requirement already satisfied: huggingface-hub<1.0,>=0.30.0 in /usr/local/lib/python3.11/dist-packages (from transformers) (0.30.2)\n",
            "Requirement already satisfied: numpy>=1.17 in /usr/local/lib/python3.11/dist-packages (from transformers) (2.0.2)\n",
            "Requirement already satisfied: packaging>=20.0 in /usr/local/lib/python3.11/dist-packages (from transformers) (24.2)\n",
            "Requirement already satisfied: pyyaml>=5.1 in /usr/local/lib/python3.11/dist-packages (from transformers) (6.0.2)\n",
            "Requirement already satisfied: regex!=2019.12.17 in /usr/local/lib/python3.11/dist-packages (from transformers) (2024.11.6)\n",
            "Requirement already satisfied: requests in /usr/local/lib/python3.11/dist-packages (from transformers) (2.32.3)\n",
            "Requirement already satisfied: tokenizers<0.22,>=0.21 in /usr/local/lib/python3.11/dist-packages (from transformers) (0.21.1)\n",
            "Requirement already satisfied: safetensors>=0.4.3 in /usr/local/lib/python3.11/dist-packages (from transformers) (0.5.3)\n",
            "Requirement already satisfied: tqdm>=4.27 in /usr/local/lib/python3.11/dist-packages (from transformers) (4.67.1)\n",
            "Requirement already satisfied: fsspec>=2023.5.0 in /usr/local/lib/python3.11/dist-packages (from huggingface-hub<1.0,>=0.30.0->transformers) (2025.3.2)\n",
            "Requirement already satisfied: typing-extensions>=3.7.4.3 in /usr/local/lib/python3.11/dist-packages (from huggingface-hub<1.0,>=0.30.0->transformers) (4.13.2)\n",
            "Requirement already satisfied: charset-normalizer<4,>=2 in /usr/local/lib/python3.11/dist-packages (from requests->transformers) (3.4.1)\n",
            "Requirement already satisfied: idna<4,>=2.5 in /usr/local/lib/python3.11/dist-packages (from requests->transformers) (3.10)\n",
            "Requirement already satisfied: urllib3<3,>=1.21.1 in /usr/local/lib/python3.11/dist-packages (from requests->transformers) (2.3.0)\n",
            "Requirement already satisfied: certifi>=2017.4.17 in /usr/local/lib/python3.11/dist-packages (from requests->transformers) (2025.1.31)\n"
          ]
        },
        {
          "output_type": "stream",
          "name": "stderr",
          "text": [
            "Device set to use cuda:0\n",
            "Device set to use cuda:0\n"
          ]
        },
        {
          "output_type": "stream",
          "name": "stdout",
          "text": [
            "\n",
            "Input Claim: PFOS are safe for humans.\n",
            "Top Classification Label: scientifically accurate | Score: 0.84\n",
            "\n",
            "Clarified Version: PFOS can help preventing diseases from spreading.\n"
          ]
        }
      ],
      "source": [
        "# Environmental Health Claim Clarifier\n",
        "\n",
        "!pip install transformers\n",
        "\n",
        "from transformers import pipeline\n",
        "\n",
        "# load classifier (zero-shot for claim evaluation)\n",
        "classifier = pipeline(\"zero-shot-classification\", model=\"facebook/bart-large-mnli\")\n",
        "\n",
        "def classify_claim(text):\n",
        "    labels = [\"scientifically accurate\", \"misleading\", \"requires context\", \"false\"]\n",
        "    return classifier(text, labels)\n",
        "\n",
        "# load generator (FLAN-T5 for clarification)\n",
        "generator = pipeline(\"text2text-generation\", model=\"google/flan-t5-small\")\n",
        "\n",
        "def clarify_claim(text, temperature=0.7, top_k=50):\n",
        "    prompt = f\"Clarify this environmental health claim: {text}\"\n",
        "    return generator(prompt, max_length=80, temperature=temperature, top_k=top_k, do_sample=True)[0]['generated_text']\n"
      ]
    },
    {
      "cell_type": "code",
      "source": [
        "example_claim = \"PFOS are safe for humans.\"\n",
        "\n",
        "classification = classify_claim(example_claim)\n",
        "print(\"\\nInput Claim:\", example_claim)\n",
        "print(\"Top Classification Label:\", classification['labels'][0], \"| Score:\", round(classification['scores'][0], 2))\n",
        "\n",
        "clarified = clarify_claim(example_claim, temperature=0.7, top_k=50)\n",
        "print(\"\\nClarified Version:\", clarified)"
      ],
      "metadata": {
        "colab": {
          "base_uri": "https://localhost:8080/"
        },
        "id": "q8vaR4iUfvzs",
        "outputId": "563866e6-08fd-4262-8471-a122dc2077b5"
      },
      "execution_count": 3,
      "outputs": [
        {
          "output_type": "stream",
          "name": "stdout",
          "text": [
            "\n",
            "Input Claim: PFOS are safe for humans.\n",
            "Top Classification Label: scientifically accurate | Score: 0.84\n",
            "\n",
            "Clarified Version: PFOS is not recommended by the public in the United States.\n"
          ]
        }
      ]
    },
    {
      "cell_type": "code",
      "source": [
        "example_claim = \"GMOs are safe for humans.\"\n",
        "\n",
        "classification = classify_claim(example_claim)\n",
        "print(\"\\nInput Claim:\", example_claim)\n",
        "print(\"Top Classification Label:\", classification['labels'][0], \"| Score:\", round(classification['scores'][0], 2))\n",
        "\n",
        "clarified = clarify_claim(example_claim, temperature=0.7, top_k=40)\n",
        "print(\"\\nClarified Version:\", clarified)"
      ],
      "metadata": {
        "colab": {
          "base_uri": "https://localhost:8080/"
        },
        "id": "O1iPt4V4fFrk",
        "outputId": "55fec43c-4060-418a-f11e-a3bdb76ab571"
      },
      "execution_count": 6,
      "outputs": [
        {
          "output_type": "stream",
          "name": "stdout",
          "text": [
            "\n",
            "Input Claim: GMOs are safe for humans.\n",
            "Top Classification Label: scientifically accurate | Score: 0.66\n",
            "\n",
            "Clarified Version: Genetic testing has shown that genetically modified foods, such as gMOs and gMOs are safe for humans.\n"
          ]
        }
      ]
    },
    {
      "cell_type": "code",
      "source": [],
      "metadata": {
        "id": "MQnd0sISgNWH"
      },
      "execution_count": null,
      "outputs": []
    }
  ]
}