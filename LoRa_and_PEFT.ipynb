{
  "nbformat": 4,
  "nbformat_minor": 0,
  "metadata": {
    "colab": {
      "provenance": [],
      "gpuType": "T4",
      "authorship_tag": "ABX9TyPBP5tdZhu7fR7PMYcvLNl0",
      "include_colab_link": true
    },
    "kernelspec": {
      "name": "python3",
      "display_name": "Python 3"
    },
    "language_info": {
      "name": "python"
    },
    "accelerator": "GPU"
  },
  "cells": [
    {
      "cell_type": "markdown",
      "metadata": {
        "id": "view-in-github",
        "colab_type": "text"
      },
      "source": [
        "<a href=\"https://colab.research.google.com/github/camillan/llm/blob/main/LoRa_and_PEFT.ipynb\" target=\"_parent\"><img src=\"https://colab.research.google.com/assets/colab-badge.svg\" alt=\"Open In Colab\"/></a>"
      ]
    },
    {
      "cell_type": "code",
      "execution_count": 3,
      "metadata": {
        "colab": {
          "base_uri": "https://localhost:8080/"
        },
        "id": "M0DTvqMvLmiH",
        "outputId": "f714c14f-8926-4a0b-d25e-5d29ea763cd1"
      },
      "outputs": [
        {
          "output_type": "stream",
          "name": "stdout",
          "text": [
            "trainable params: 294,912 || all params: 125,493,504 || trainable%: 0.2350\n",
            "None\n"
          ]
        }
      ],
      "source": [
        "from transformers import AutoModelForCausalLM, AutoTokenizer\n",
        "from peft import get_peft_model, LoraConfig, TaskType\n",
        "\n",
        "# This model and tokenizer are pretrained. Falcon is used for next-word predictions\n",
        "model = AutoModelForCausalLM.from_pretrained(\"EleutherAI/gpt-neo-125M\")\n",
        "tokenizer = AutoTokenizer.from_pretrained(\"EleutherAI/gpt-neo-125M\")\n",
        "\n",
        "# LoRA config\n",
        "config = LoraConfig(\n",
        "    r=8, # Rank of low-rank matrices. Smaller means less parameters.\n",
        "    lora_alpha=16, # Controls how much the lora modules impact the output\n",
        "    target_modules=[\"q_proj\", \"v_proj\"], # These are the attention layers that lora applies to\n",
        "    lora_dropout=0.1, # Regularization so we don't overfit\n",
        "    bias=\"none\", # We won't adjust base model biases\n",
        "    task_type=TaskType.CAUSAL_LM # Tells which type of model we're implementing this on\n",
        ")\n",
        "\n",
        "# Inject LoRA into model\n",
        "lora_model = get_peft_model(model, config)\n",
        "\n",
        "# Only LoRA parameters will require gradients\n",
        "print(lora_model.print_trainable_parameters())"
      ]
    },
    {
      "cell_type": "code",
      "source": [],
      "metadata": {
        "id": "GAc-UwWSMiuX"
      },
      "execution_count": null,
      "outputs": []
    }
  ]
}